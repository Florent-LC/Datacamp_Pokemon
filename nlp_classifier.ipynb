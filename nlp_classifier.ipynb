{
 "cells": [
  {
   "cell_type": "code",
   "execution_count": 4,
   "metadata": {},
   "outputs": [],
   "source": [
    "import pandas as pd\n",
    "import numpy as np\n",
    "from scipy.special import softmax\n",
    "\n",
    "from sklearn.compose import ColumnTransformer\n",
    "from sklearn.feature_extraction.text import TfidfVectorizer\n",
    "from sklearn.linear_model import LogisticRegression\n",
    "from sklearn.metrics import classification_report\n",
    "from sklearn.model_selection import train_test_split\n",
    "from sklearn.multioutput import MultiOutputClassifier\n",
    "from sklearn.preprocessing import MultiLabelBinarizer\n",
    "from sklearn.pipeline import make_pipeline\n",
    "from sklearn.metrics import accuracy_score"
   ]
  },
  {
   "cell_type": "markdown",
   "metadata": {},
   "source": [
    "## Data loading"
   ]
  },
  {
   "cell_type": "code",
   "execution_count": 5,
   "metadata": {},
   "outputs": [],
   "source": [
    "path_df = \"Data/Table/Pokemon_name_and_type.parquet\""
   ]
  },
  {
   "cell_type": "code",
   "execution_count": 6,
   "metadata": {},
   "outputs": [],
   "source": [
    "df = pd.read_parquet(path_df)"
   ]
  },
  {
   "cell_type": "markdown",
   "metadata": {},
   "source": [
    "## Train-test split"
   ]
  },
  {
   "cell_type": "code",
   "execution_count": 7,
   "metadata": {},
   "outputs": [],
   "source": [
    "targets = [\"Type 1\", \"Type 2\"]\n",
    "\n",
    "X = df.drop(columns=targets)\n",
    "y = df[targets].apply(lambda x: [x['Type 1']] if pd.isna(x['Type 2']) else [x['Type 1'], x['Type 2']], axis=1)\n",
    "mlb = MultiLabelBinarizer()\n",
    "y = mlb.fit_transform(y)\n",
    "\n",
    "X_train, X_test, y_train, y_test = train_test_split(X, y, test_size=0.2, random_state=42)"
   ]
  },
  {
   "cell_type": "markdown",
   "metadata": {},
   "source": [
    "## Modeling"
   ]
  },
  {
   "cell_type": "code",
   "execution_count": 8,
   "metadata": {},
   "outputs": [],
   "source": [
    "transformer = ColumnTransformer(\n",
    "    transformers=[\n",
    "        (\"en\", TfidfVectorizer(analyzer=\"char\", ngram_range=(1, 3), lowercase=True, max_features=1000), \"English\"),\n",
    "        (\"de\", TfidfVectorizer(analyzer=\"char\", ngram_range=(1, 3), lowercase=True, max_features=1000), \"German\"),\n",
    "        (\"fr\", TfidfVectorizer(analyzer=\"char\", ngram_range=(1, 3), lowercase=True, max_features=1000), \"French\"),\n",
    "        (\"ka\", TfidfVectorizer(analyzer=\"char\", ngram_range=(1, 3), lowercase=True, max_features=1000), \"Kanas\"),\n",
    "        (\"re\", TfidfVectorizer(analyzer=\"char\", ngram_range=(1, 3), lowercase=True, max_features=1000), \"Registered\")\n",
    "    ],\n",
    "    remainder=\"drop\",\n",
    "    sparse_threshold=0,\n",
    ")\n",
    "\n",
    "model = MultiOutputClassifier(LogisticRegression(max_iter=1000, class_weight=\"balanced\"))\n",
    "\n",
    "pipe = make_pipeline(transformer, model)\n",
    "pipe.fit(X_train, y_train);"
   ]
  },
  {
   "cell_type": "code",
   "execution_count": 9,
   "metadata": {},
   "outputs": [],
   "source": [
    "pred_probas = pipe.predict_proba(X_test)\n",
    "pred_probas = np.array(pred_probas)[:,:,1].T\n",
    "#pred_probas = np.mean(pred_probas, axis=1)"
   ]
  },
  {
   "cell_type": "code",
   "execution_count": 21,
   "metadata": {},
   "outputs": [
    {
     "data": {
      "text/plain": [
       "array([1., 1., 1., 1., 1., 1., 1., 1., 1., 1., 1., 1., 1., 1., 1., 1., 1.,\n",
       "       1., 1., 1., 1., 1., 1., 1., 1., 1., 1., 1., 1., 1., 1., 1., 1., 1.,\n",
       "       1., 1., 1., 1., 1., 1., 1., 1., 1., 1., 1., 1., 1., 1., 1., 1., 1.,\n",
       "       1., 1., 1., 1., 1., 1., 1., 1., 1., 1., 1., 1., 1., 1., 1., 1., 1.,\n",
       "       1., 1., 1., 1., 1., 1., 1., 1., 1., 1., 1., 1., 1., 1., 1., 1., 1.,\n",
       "       1., 1., 1., 1., 1., 1., 1., 1., 1., 1., 1., 1., 1., 1., 1., 1., 1.,\n",
       "       1., 1., 1., 1., 1., 1., 1., 1., 1., 1., 1., 1., 1., 1., 1., 1., 1.,\n",
       "       1., 1., 1., 1., 1., 1., 1., 1., 1., 1., 1., 1., 1., 1., 1., 1., 1.,\n",
       "       1., 1., 1., 1., 1., 1., 1., 1., 1., 1., 1., 1., 1., 1., 1., 1., 1.,\n",
       "       1., 1., 1., 1., 1., 1., 1., 1., 1., 1., 1., 1., 1., 1., 1., 1., 1.,\n",
       "       1., 1., 1., 1., 1., 1., 1., 1., 1., 1., 1., 1., 1., 1., 1., 1., 1.,\n",
       "       1., 1., 1., 1., 1., 1., 1., 1., 1., 1., 1., 1., 1., 1., 1., 1., 1.,\n",
       "       1.])"
      ]
     },
     "execution_count": 21,
     "metadata": {},
     "output_type": "execute_result"
    }
   ],
   "source": [
    "row_sums = pred_probas.sum(axis=1).reshape(-1, 1)  # Reshape for broadcasting\n",
    "\n",
    "# Divide each row by its sum\n",
    "(pred_probas / row_sums).sum(1)"
   ]
  },
  {
   "cell_type": "code",
   "execution_count": 11,
   "metadata": {},
   "outputs": [
    {
     "data": {
      "text/plain": [
       "True"
      ]
     },
     "execution_count": 11,
     "metadata": {},
     "output_type": "execute_result"
    }
   ],
   "source": [
    "'s' in {'s', None, 3}"
   ]
  },
  {
   "cell_type": "code",
   "execution_count": 12,
   "metadata": {},
   "outputs": [],
   "source": [
    "threshold = .07\n",
    "preds = np.zeros_like(pred_probas)\n",
    "\n",
    "for i,pred_proba in enumerate(pred_probas) :\n",
    "    t = np.argsort(pred_proba)\n",
    "    preds[i, t[-1]] = 1\n",
    "    second_best = t[-2]\n",
    "    if pred_proba[second_best] > threshold:\n",
    "        preds[i, second_best] = 1"
   ]
  },
  {
   "cell_type": "code",
   "execution_count": 13,
   "metadata": {},
   "outputs": [
    {
     "name": "stdout",
     "output_type": "stream",
     "text": [
      "              precision    recall  f1-score   support\n",
      "\n",
      "         Bug       0.75      0.17      0.27        18\n",
      "        Dark       0.25      0.07      0.11        15\n",
      "      Dragon       0.70      0.54      0.61        13\n",
      "    Electric       0.90      0.56      0.69        16\n",
      "       Fairy       0.75      0.27      0.40        11\n",
      "    Fighting       0.25      0.11      0.15        18\n",
      "        Fire       1.00      0.33      0.50        12\n",
      "      Flying       0.67      0.38      0.48        16\n",
      "       Ghost       1.00      0.07      0.13        14\n",
      "      Ground       0.36      0.25      0.30        16\n",
      "         Ice       1.00      0.14      0.25         7\n",
      "      Normal       0.57      0.35      0.43        23\n",
      "       Plant       0.47      0.27      0.34        26\n",
      "      Poison       0.83      0.42      0.56        24\n",
      "     Psychic       0.50      0.27      0.35        22\n",
      "        Rock       0.60      0.43      0.50        14\n",
      "       Steel       0.67      0.31      0.42        13\n",
      "       Water       0.67      0.34      0.45        29\n",
      "\n",
      "   micro avg       0.61      0.30      0.40       307\n",
      "   macro avg       0.66      0.29      0.39       307\n",
      "weighted avg       0.64      0.30      0.39       307\n",
      " samples avg       0.35      0.32      0.33       307\n",
      "\n"
     ]
    }
   ],
   "source": [
    "y_pred = pipe.predict(X_test)\n",
    "\n",
    "print(classification_report(y_test, y_pred, target_names=mlb.classes_, zero_division=0))"
   ]
  },
  {
   "cell_type": "code",
   "execution_count": 14,
   "metadata": {},
   "outputs": [
    {
     "data": {
      "text/plain": [
       "0.21951219512195122"
      ]
     },
     "execution_count": 14,
     "metadata": {},
     "output_type": "execute_result"
    }
   ],
   "source": [
    "accuracy_score(y_test, y_pred)"
   ]
  }
 ],
 "metadata": {
  "kernelspec": {
   "display_name": "venv",
   "language": "python",
   "name": "python3"
  },
  "language_info": {
   "codemirror_mode": {
    "name": "ipython",
    "version": 3
   },
   "file_extension": ".py",
   "mimetype": "text/x-python",
   "name": "python",
   "nbconvert_exporter": "python",
   "pygments_lexer": "ipython3",
   "version": "3.11.8"
  }
 },
 "nbformat": 4,
 "nbformat_minor": 2
}
