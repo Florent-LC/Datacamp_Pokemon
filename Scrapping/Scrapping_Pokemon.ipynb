{
  "cells": [
    {
      "cell_type": "code",
      "execution_count": 53,
      "metadata": {
        "id": "MKRTxm6tlfJI"
      },
      "outputs": [],
      "source": [
        "import csv\n",
        "import requests\n",
        "from bs4 import BeautifulSoup\n",
        "import pandas as pd\n",
        "import re\n",
        "import numpy as np\n",
        "from PIL import Image\n",
        "from io import BytesIO, StringIO\n",
        "import matplotlib.pyplot as plt\n",
        "from urllib.parse import quote\n",
        "from tqdm import tqdm"
      ]
    },
    {
      "cell_type": "code",
      "execution_count": 2,
      "metadata": {
        "id": "jYb4R-okqyZB"
      },
      "outputs": [],
      "source": [
        "# To be modified:\n",
        "\n",
        "# the path to store the dataframe of the names and types\n",
        "path_df_text = \"test_res_scrapping\"\n",
        "# the path to store the folder of the images\n",
        "path_image = \"test_res_scrapping\""
      ]
    },
    {
      "cell_type": "code",
      "execution_count": 3,
      "metadata": {
        "id": "Lz3jWVdQmnHF"
      },
      "outputs": [],
      "source": [
        "url = \"https://www.pokepedia.fr/Liste_des_Pok%C3%A9mon_dans_l%27ordre_du_Pok%C3%A9dex_National\""
      ]
    },
    {
      "cell_type": "code",
      "execution_count": 4,
      "metadata": {
        "id": "MuYDSl9wmtjt"
      },
      "outputs": [],
      "source": [
        "# a Response object\n",
        "# the attribute that interests us in this response in the text,\n",
        "# meaning the content of the response, in Unicode format (an str)\n",
        "req = requests.get(url)"
      ]
    },
    {
      "cell_type": "code",
      "execution_count": 5,
      "metadata": {
        "id": "Z3KaibsAm3pC"
      },
      "outputs": [],
      "source": [
        "# a BeautifulSoup object, useful to navigate in the HTML document\n",
        "soup = BeautifulSoup(req.text)"
      ]
    },
    {
      "cell_type": "markdown",
      "metadata": {
        "id": "49GuNbnj565v"
      },
      "source": [
        "# Part I: retrieving the dataframe of the names and types"
      ]
    },
    {
      "cell_type": "code",
      "execution_count": 44,
      "metadata": {
        "id": "irfINOOZm4zH"
      },
      "outputs": [],
      "source": [
        "# soup.find_all(\"table\") outputs a BeautifulSoup subcriptable object\n",
        "# (bs4.element.ResultSet) with all the tables of the webpage\n",
        "all_table = soup.find_all(\"table\")\n",
        "\n",
        "# As the website change often, the position of the desired table can change,\n",
        "# as there exists other smaller tables in the webpage\n",
        "# One way to be sure to extract the good table is to extract the table which is\n",
        "# the longest (when converted to str), since this table covers almost the entire web page\n",
        "longest_len = 0\n",
        "data = None\n",
        "for table in all_table:\n",
        "    table_str = str(table)\n",
        "    len_table = len(table_str)\n",
        "    if len_table > longest_len:\n",
        "        longest_len = len_table\n",
        "        data = table_str"
      ]
    },
    {
      "cell_type": "code",
      "execution_count": 45,
      "metadata": {
        "id": "kSes3fqktYdc"
      },
      "outputs": [],
      "source": [
        "# The output of the types is quite complicated because there are not only type names in\n",
        "# the HTML file, but also link to images (icon) and so on\n",
        "# the following function transforms the HTML file (that has been tranformed to an str)\n",
        "# so that the values of types for each entry is transformed to a simpler content that can be\n",
        "# be read afterwards\n",
        "\n",
        "def replace(m : str) -> str :\n",
        "    \"\"\"\n",
        "    Extract type names and format them\n",
        "    \"\"\"\n",
        "    # Extract type names\n",
        "    type_names = re.findall(r'title=\"([^\"]+)\"', m.group(0))\n",
        "\n",
        "    # Remove \"(type)\" from each type name\n",
        "    type_names = [name.replace(\" (type)\", \"\") for name in type_names]\n",
        "\n",
        "    # Join type names with comma\n",
        "    return '<td>' + ', '.join(type_names) + '</td>'\n",
        "\n",
        "\n",
        "def replace_types(html : str) -> str:\n",
        "    \"\"\"\n",
        "    Change the types of the HTML string to a more readable content\n",
        "    \"\"\"\n",
        "    # Pattern to match the Types column HTML content\n",
        "    pattern = r'<td><span typeof=\"mw:File\">.*?</td>'\n",
        "\n",
        "    # Replace the matched HTML with formatted type names\n",
        "    return re.sub(pattern, replace, html)"
      ]
    },
    {
      "cell_type": "code",
      "execution_count": 71,
      "metadata": {
        "id": "VX7fJjkYqQu8"
      },
      "outputs": [],
      "source": [
        "# \"read_html\" outputs a list of all pandas dataframe for each table encoutered in the input\n",
        "# As we previously selected the desired table directly with BeautifulSoup, there is\n",
        "# only one element in the list\n",
        "# To avoid a warning, read_html prefers to take as input an io file (even if the str of the\n",
        "# html also works)\n",
        "df_text = pd.read_html(StringIO(replace_types(data)), header=0)[0]"
      ]
    },
    {
      "cell_type": "code",
      "execution_count": 72,
      "metadata": {
        "colab": {
          "base_uri": "https://localhost:8080/",
          "height": 293
        },
        "id": "kiBQnibEyoj6",
        "outputId": "ae9d093c-1bb0-494e-9519-f52d2c55f632"
      },
      "outputs": [
        {
          "data": {
            "text/html": [
              "<div>\n",
              "<style scoped>\n",
              "    .dataframe tbody tr th:only-of-type {\n",
              "        vertical-align: middle;\n",
              "    }\n",
              "\n",
              "    .dataframe tbody tr th {\n",
              "        vertical-align: top;\n",
              "    }\n",
              "\n",
              "    .dataframe thead th {\n",
              "        text-align: right;\n",
              "    }\n",
              "</style>\n",
              "<table border=\"1\" class=\"dataframe\">\n",
              "  <thead>\n",
              "    <tr style=\"text-align: right;\">\n",
              "      <th></th>\n",
              "      <th>Numéro</th>\n",
              "      <th>Image</th>\n",
              "      <th>Nom français</th>\n",
              "      <th>Nom anglais</th>\n",
              "      <th>Nom allemand</th>\n",
              "      <th>Nom japonais</th>\n",
              "      <th>Nom japonais.1</th>\n",
              "      <th>Types</th>\n",
              "    </tr>\n",
              "  </thead>\n",
              "  <tbody>\n",
              "    <tr>\n",
              "      <th>0</th>\n",
              "      <td>Numéro</td>\n",
              "      <td>Image</td>\n",
              "      <td>Nom français</td>\n",
              "      <td>Nom anglais</td>\n",
              "      <td>Nom allemand</td>\n",
              "      <td>Kanas</td>\n",
              "      <td>Déposé</td>\n",
              "      <td>Types</td>\n",
              "    </tr>\n",
              "    <tr>\n",
              "      <th>1</th>\n",
              "      <td>0001</td>\n",
              "      <td>NaN</td>\n",
              "      <td>Bulbizarre</td>\n",
              "      <td>Bulbasaur</td>\n",
              "      <td>Bisasam</td>\n",
              "      <td>フシギダネ（Fushigidane）</td>\n",
              "      <td>Fushigidane</td>\n",
              "      <td>Plante, Poison</td>\n",
              "    </tr>\n",
              "    <tr>\n",
              "      <th>2</th>\n",
              "      <td>0002</td>\n",
              "      <td>NaN</td>\n",
              "      <td>Herbizarre</td>\n",
              "      <td>Ivysaur</td>\n",
              "      <td>Bisaknosp</td>\n",
              "      <td>フシギソウ（Fushigisō）</td>\n",
              "      <td>Fushigisou</td>\n",
              "      <td>Plante, Poison</td>\n",
              "    </tr>\n",
              "    <tr>\n",
              "      <th>3</th>\n",
              "      <td>0003</td>\n",
              "      <td>NaN</td>\n",
              "      <td>Florizarre</td>\n",
              "      <td>Venusaur</td>\n",
              "      <td>Bisaflor</td>\n",
              "      <td>フシギバナ（Fushigibana）</td>\n",
              "      <td>Fushigibana</td>\n",
              "      <td>Plante, Poison</td>\n",
              "    </tr>\n",
              "    <tr>\n",
              "      <th>4</th>\n",
              "      <td>0003</td>\n",
              "      <td>NaN</td>\n",
              "      <td>Florizarre Gigamax</td>\n",
              "      <td>Venusaur Gigantamax</td>\n",
              "      <td>Bisaflor Gigadynamax</td>\n",
              "      <td>フシギバナ（Fushigibana） キョダイマックス（Kyodaimakkusu）</td>\n",
              "      <td>Fushigibana</td>\n",
              "      <td>Plante, Poison</td>\n",
              "    </tr>\n",
              "  </tbody>\n",
              "</table>\n",
              "</div>"
            ],
            "text/plain": [
              "   Numéro  Image        Nom français          Nom anglais  \\\n",
              "0  Numéro  Image        Nom français          Nom anglais   \n",
              "1    0001    NaN          Bulbizarre            Bulbasaur   \n",
              "2    0002    NaN          Herbizarre              Ivysaur   \n",
              "3    0003    NaN          Florizarre             Venusaur   \n",
              "4    0003    NaN  Florizarre Gigamax  Venusaur Gigantamax   \n",
              "\n",
              "           Nom allemand                                Nom japonais  \\\n",
              "0          Nom allemand                                       Kanas   \n",
              "1               Bisasam                          フシギダネ（Fushigidane）   \n",
              "2             Bisaknosp                            フシギソウ（Fushigisō）   \n",
              "3              Bisaflor                          フシギバナ（Fushigibana）   \n",
              "4  Bisaflor Gigadynamax  フシギバナ（Fushigibana） キョダイマックス（Kyodaimakkusu）   \n",
              "\n",
              "  Nom japonais.1           Types  \n",
              "0         Déposé           Types  \n",
              "1    Fushigidane  Plante, Poison  \n",
              "2     Fushigisou  Plante, Poison  \n",
              "3    Fushigibana  Plante, Poison  \n",
              "4    Fushigibana  Plante, Poison  "
            ]
          },
          "execution_count": 72,
          "metadata": {},
          "output_type": "execute_result"
        }
      ],
      "source": [
        "df_text.head()"
      ]
    },
    {
      "cell_type": "code",
      "execution_count": 73,
      "metadata": {
        "id": "V6E2hIaso8Bx"
      },
      "outputs": [
        {
          "ename": "TypeError",
          "evalue": "<lambda>() got an unexpected keyword argument 'inplace'",
          "output_type": "error",
          "traceback": [
            "\u001b[1;31m---------------------------------------------------------------------------\u001b[0m",
            "\u001b[1;31mTypeError\u001b[0m                                 Traceback (most recent call last)",
            "Cell \u001b[1;32mIn[73], line 29\u001b[0m\n\u001b[0;32m     25\u001b[0m df_text\u001b[38;5;241m.\u001b[39mdrop_duplicates(subset\u001b[38;5;241m=\u001b[39m\u001b[38;5;124m\"\u001b[39m\u001b[38;5;124mNumber\u001b[39m\u001b[38;5;124m\"\u001b[39m, keep\u001b[38;5;241m=\u001b[39m\u001b[38;5;124m\"\u001b[39m\u001b[38;5;124mfirst\u001b[39m\u001b[38;5;124m\"\u001b[39m, inplace\u001b[38;5;241m=\u001b[39m\u001b[38;5;28;01mTrue\u001b[39;00m)\n\u001b[0;32m     27\u001b[0m \u001b[38;5;66;03m# the names in brackets for the japanese name are close to the registered names,\u001b[39;00m\n\u001b[0;32m     28\u001b[0m \u001b[38;5;66;03m# so we drop them\u001b[39;00m\n\u001b[1;32m---> 29\u001b[0m \u001b[43mdf_text\u001b[49m\u001b[38;5;241;43m.\u001b[39;49m\u001b[43mapply\u001b[49m\u001b[43m(\u001b[49m\u001b[43m(\u001b[49m\u001b[38;5;28;43;01mlambda\u001b[39;49;00m\u001b[43m \u001b[49m\u001b[43ms\u001b[49m\u001b[43m \u001b[49m\u001b[43m:\u001b[49m\u001b[43m \u001b[49m\u001b[43mre\u001b[49m\u001b[38;5;241;43m.\u001b[39;49m\u001b[43msub\u001b[49m\u001b[43m(\u001b[49m\u001b[38;5;124;43mr\u001b[39;49m\u001b[38;5;124;43m'\u001b[39;49m\u001b[38;5;124;43m\\\u001b[39;49m\u001b[38;5;124;43m（[^()]*\u001b[39;49m\u001b[38;5;124;43m\\\u001b[39;49m\u001b[38;5;124;43m）\u001b[39;49m\u001b[38;5;124;43m'\u001b[39;49m\u001b[43m,\u001b[49m\u001b[43m \u001b[49m\u001b[38;5;124;43m'\u001b[39;49m\u001b[38;5;124;43m'\u001b[39;49m\u001b[43m,\u001b[49m\u001b[43m \u001b[49m\u001b[43ms\u001b[49m\u001b[43m)\u001b[49m\u001b[43m)\u001b[49m\u001b[43m,\u001b[49m\u001b[43m \u001b[49m\u001b[43minplace\u001b[49m\u001b[38;5;241;43m=\u001b[39;49m\u001b[38;5;28;43;01mTrue\u001b[39;49;00m\u001b[43m)\u001b[49m\n\u001b[0;32m     31\u001b[0m \u001b[38;5;66;03m# setting the column \"Numéro\" to the index\u001b[39;00m\n\u001b[0;32m     32\u001b[0m df_text\u001b[38;5;241m.\u001b[39mset_index(\u001b[38;5;124m\"\u001b[39m\u001b[38;5;124mNuméro\u001b[39m\u001b[38;5;124m\"\u001b[39m, drop\u001b[38;5;241m=\u001b[39m\u001b[38;5;28;01mTrue\u001b[39;00m, inplace\u001b[38;5;241m=\u001b[39m\u001b[38;5;28;01mTrue\u001b[39;00m)\n",
            "File \u001b[1;32mc:\\Users\\Florent\\anaconda3\\envs\\Datacamp_Pokemon\\Lib\\site-packages\\pandas\\core\\frame.py:10361\u001b[0m, in \u001b[0;36mDataFrame.apply\u001b[1;34m(self, func, axis, raw, result_type, args, by_row, engine, engine_kwargs, **kwargs)\u001b[0m\n\u001b[0;32m  10347\u001b[0m \u001b[38;5;28;01mfrom\u001b[39;00m \u001b[38;5;21;01mpandas\u001b[39;00m\u001b[38;5;21;01m.\u001b[39;00m\u001b[38;5;21;01mcore\u001b[39;00m\u001b[38;5;21;01m.\u001b[39;00m\u001b[38;5;21;01mapply\u001b[39;00m \u001b[38;5;28;01mimport\u001b[39;00m frame_apply\n\u001b[0;32m  10349\u001b[0m op \u001b[38;5;241m=\u001b[39m frame_apply(\n\u001b[0;32m  10350\u001b[0m     \u001b[38;5;28mself\u001b[39m,\n\u001b[0;32m  10351\u001b[0m     func\u001b[38;5;241m=\u001b[39mfunc,\n\u001b[1;32m   (...)\u001b[0m\n\u001b[0;32m  10359\u001b[0m     kwargs\u001b[38;5;241m=\u001b[39mkwargs,\n\u001b[0;32m  10360\u001b[0m )\n\u001b[1;32m> 10361\u001b[0m \u001b[38;5;28;01mreturn\u001b[39;00m \u001b[43mop\u001b[49m\u001b[38;5;241;43m.\u001b[39;49m\u001b[43mapply\u001b[49m\u001b[43m(\u001b[49m\u001b[43m)\u001b[49m\u001b[38;5;241m.\u001b[39m__finalize__(\u001b[38;5;28mself\u001b[39m, method\u001b[38;5;241m=\u001b[39m\u001b[38;5;124m\"\u001b[39m\u001b[38;5;124mapply\u001b[39m\u001b[38;5;124m\"\u001b[39m)\n",
            "File \u001b[1;32mc:\\Users\\Florent\\anaconda3\\envs\\Datacamp_Pokemon\\Lib\\site-packages\\pandas\\core\\apply.py:916\u001b[0m, in \u001b[0;36mFrameApply.apply\u001b[1;34m(self)\u001b[0m\n\u001b[0;32m    913\u001b[0m \u001b[38;5;28;01melif\u001b[39;00m \u001b[38;5;28mself\u001b[39m\u001b[38;5;241m.\u001b[39mraw:\n\u001b[0;32m    914\u001b[0m     \u001b[38;5;28;01mreturn\u001b[39;00m \u001b[38;5;28mself\u001b[39m\u001b[38;5;241m.\u001b[39mapply_raw(engine\u001b[38;5;241m=\u001b[39m\u001b[38;5;28mself\u001b[39m\u001b[38;5;241m.\u001b[39mengine, engine_kwargs\u001b[38;5;241m=\u001b[39m\u001b[38;5;28mself\u001b[39m\u001b[38;5;241m.\u001b[39mengine_kwargs)\n\u001b[1;32m--> 916\u001b[0m \u001b[38;5;28;01mreturn\u001b[39;00m \u001b[38;5;28;43mself\u001b[39;49m\u001b[38;5;241;43m.\u001b[39;49m\u001b[43mapply_standard\u001b[49m\u001b[43m(\u001b[49m\u001b[43m)\u001b[49m\n",
            "File \u001b[1;32mc:\\Users\\Florent\\anaconda3\\envs\\Datacamp_Pokemon\\Lib\\site-packages\\pandas\\core\\apply.py:1063\u001b[0m, in \u001b[0;36mFrameApply.apply_standard\u001b[1;34m(self)\u001b[0m\n\u001b[0;32m   1061\u001b[0m \u001b[38;5;28;01mdef\u001b[39;00m \u001b[38;5;21mapply_standard\u001b[39m(\u001b[38;5;28mself\u001b[39m):\n\u001b[0;32m   1062\u001b[0m     \u001b[38;5;28;01mif\u001b[39;00m \u001b[38;5;28mself\u001b[39m\u001b[38;5;241m.\u001b[39mengine \u001b[38;5;241m==\u001b[39m \u001b[38;5;124m\"\u001b[39m\u001b[38;5;124mpython\u001b[39m\u001b[38;5;124m\"\u001b[39m:\n\u001b[1;32m-> 1063\u001b[0m         results, res_index \u001b[38;5;241m=\u001b[39m \u001b[38;5;28;43mself\u001b[39;49m\u001b[38;5;241;43m.\u001b[39;49m\u001b[43mapply_series_generator\u001b[49m\u001b[43m(\u001b[49m\u001b[43m)\u001b[49m\n\u001b[0;32m   1064\u001b[0m     \u001b[38;5;28;01melse\u001b[39;00m:\n\u001b[0;32m   1065\u001b[0m         results, res_index \u001b[38;5;241m=\u001b[39m \u001b[38;5;28mself\u001b[39m\u001b[38;5;241m.\u001b[39mapply_series_numba()\n",
            "File \u001b[1;32mc:\\Users\\Florent\\anaconda3\\envs\\Datacamp_Pokemon\\Lib\\site-packages\\pandas\\core\\apply.py:1081\u001b[0m, in \u001b[0;36mFrameApply.apply_series_generator\u001b[1;34m(self)\u001b[0m\n\u001b[0;32m   1078\u001b[0m \u001b[38;5;28;01mwith\u001b[39;00m option_context(\u001b[38;5;124m\"\u001b[39m\u001b[38;5;124mmode.chained_assignment\u001b[39m\u001b[38;5;124m\"\u001b[39m, \u001b[38;5;28;01mNone\u001b[39;00m):\n\u001b[0;32m   1079\u001b[0m     \u001b[38;5;28;01mfor\u001b[39;00m i, v \u001b[38;5;129;01min\u001b[39;00m \u001b[38;5;28menumerate\u001b[39m(series_gen):\n\u001b[0;32m   1080\u001b[0m         \u001b[38;5;66;03m# ignore SettingWithCopy here in case the user mutates\u001b[39;00m\n\u001b[1;32m-> 1081\u001b[0m         results[i] \u001b[38;5;241m=\u001b[39m \u001b[38;5;28;43mself\u001b[39;49m\u001b[38;5;241;43m.\u001b[39;49m\u001b[43mfunc\u001b[49m\u001b[43m(\u001b[49m\u001b[43mv\u001b[49m\u001b[43m,\u001b[49m\u001b[43m \u001b[49m\u001b[38;5;241;43m*\u001b[39;49m\u001b[38;5;28;43mself\u001b[39;49m\u001b[38;5;241;43m.\u001b[39;49m\u001b[43margs\u001b[49m\u001b[43m,\u001b[49m\u001b[43m \u001b[49m\u001b[38;5;241;43m*\u001b[39;49m\u001b[38;5;241;43m*\u001b[39;49m\u001b[38;5;28;43mself\u001b[39;49m\u001b[38;5;241;43m.\u001b[39;49m\u001b[43mkwargs\u001b[49m\u001b[43m)\u001b[49m\n\u001b[0;32m   1082\u001b[0m         \u001b[38;5;28;01mif\u001b[39;00m \u001b[38;5;28misinstance\u001b[39m(results[i], ABCSeries):\n\u001b[0;32m   1083\u001b[0m             \u001b[38;5;66;03m# If we have a view on v, we need to make a copy because\u001b[39;00m\n\u001b[0;32m   1084\u001b[0m             \u001b[38;5;66;03m#  series_generator will swap out the underlying data\u001b[39;00m\n\u001b[0;32m   1085\u001b[0m             results[i] \u001b[38;5;241m=\u001b[39m results[i]\u001b[38;5;241m.\u001b[39mcopy(deep\u001b[38;5;241m=\u001b[39m\u001b[38;5;28;01mFalse\u001b[39;00m)\n",
            "\u001b[1;31mTypeError\u001b[0m: <lambda>() got an unexpected keyword argument 'inplace'"
          ]
        }
      ],
      "source": [
        "# transforming the dataframe so that the columns and indexes are coherent\n",
        "\n",
        "# deleting duplicate column in the first row\n",
        "df_text.columns = df_text.iloc[0,:]\n",
        "df_text.drop([0], inplace=True)\n",
        "\n",
        "# renaming some columns\n",
        "# The word \"déposé\" stands for the registered name of the Pokemon in Japan\n",
        "dict_replace = {\n",
        "                'Numéro' : 'Number',\n",
        "                'Nom français' : 'French',\n",
        "                'Nom anglais' : 'English',\n",
        "                'Nom allemand' : 'German',\n",
        "                'Déposé' : 'Registered'\n",
        "                }\n",
        "df_text.rename(columns=dict_replace, inplace=True)\n",
        "\n",
        "# for the first part, we manipulate only the str values (Image being NaN values\n",
        "# because they were trasnformed to str previously)\n",
        "df_text.drop(columns=[\"Image\"], inplace=True)\n",
        "\n",
        "# due to the last generations of Pokemon, evolutions of existing Pokemons have been\n",
        "# added, causing multiple Pokemons to have the same number\n",
        "# In this study, we don't consider these evolutions (so we basically drop them)\n",
        "df_text.drop_duplicates(subset=\"Number\", keep=\"first\", inplace=True)\n",
        "\n",
        "# the names in brackets for the japanese name are close to the registered names,\n",
        "# so we drop them\n",
        "drop_brackets = lambda s : re.sub(r'\\（[^()]*\\）', '', s)\n",
        "df_text.apply(drop_brackets, inplace=True)\n",
        "\n",
        "# setting the column \"Numéro\" to the index\n",
        "df_text.set_index(\"Numéro\", drop=True, inplace=True)"
      ]
    },
    {
      "cell_type": "code",
      "execution_count": 66,
      "metadata": {},
      "outputs": [
        {
          "data": {
            "text/plain": [
              "Numéro\n",
              "0001                           フシギダネ（Fushigidane）\n",
              "0002                             フシギソウ（Fushigisō）\n",
              "0003                           フシギバナ（Fushigibana）\n",
              "0004                               ヒトカゲ（Hitokage）\n",
              "0005                                 リザード（Rizādo）\n",
              "                          ...                    \n",
              "1021                          タケルライコ（Takeruraiko）\n",
              "1022                          テツノイワオ（Tetsunoiwao）\n",
              "1023                       テツノカシラ（Tetsunokashira）\n",
              "1024    テラパゴス（Terapagosu） ノーマルフォルム（Nōmaru Forumu）\n",
              "1025                              モモワロウ（Momowarō）\n",
              "Name: Japonais (Kanas), Length: 1025, dtype: object"
            ]
          },
          "execution_count": 66,
          "metadata": {},
          "output_type": "execute_result"
        }
      ],
      "source": [
        "df_text[\"Japonais (Kanas)\"]"
      ]
    },
    {
      "cell_type": "code",
      "execution_count": 63,
      "metadata": {
        "colab": {
          "base_uri": "https://localhost:8080/",
          "height": 708
        },
        "id": "mikHs2eGpXBk",
        "outputId": "06104f85-8ec5-4e60-e8d3-30186927405e"
      },
      "outputs": [
        {
          "data": {
            "text/html": [
              "<div>\n",
              "<style scoped>\n",
              "    .dataframe tbody tr th:only-of-type {\n",
              "        vertical-align: middle;\n",
              "    }\n",
              "\n",
              "    .dataframe tbody tr th {\n",
              "        vertical-align: top;\n",
              "    }\n",
              "\n",
              "    .dataframe thead th {\n",
              "        text-align: right;\n",
              "    }\n",
              "</style>\n",
              "<table border=\"1\" class=\"dataframe\">\n",
              "  <thead>\n",
              "    <tr style=\"text-align: right;\">\n",
              "      <th></th>\n",
              "      <th>Nom français</th>\n",
              "      <th>Nom anglais</th>\n",
              "      <th>Nom allemand</th>\n",
              "      <th>Japonais (Kanas)</th>\n",
              "      <th>Japonais (Déposé)</th>\n",
              "      <th>Types</th>\n",
              "    </tr>\n",
              "    <tr>\n",
              "      <th>Numéro</th>\n",
              "      <th></th>\n",
              "      <th></th>\n",
              "      <th></th>\n",
              "      <th></th>\n",
              "      <th></th>\n",
              "      <th></th>\n",
              "    </tr>\n",
              "  </thead>\n",
              "  <tbody>\n",
              "    <tr>\n",
              "      <th>0001</th>\n",
              "      <td>Bulbizarre</td>\n",
              "      <td>Bulbasaur</td>\n",
              "      <td>Bisasam</td>\n",
              "      <td>フシギダネ（Fushigidane）</td>\n",
              "      <td>Fushigidane</td>\n",
              "      <td>Plante, Poison</td>\n",
              "    </tr>\n",
              "    <tr>\n",
              "      <th>0002</th>\n",
              "      <td>Herbizarre</td>\n",
              "      <td>Ivysaur</td>\n",
              "      <td>Bisaknosp</td>\n",
              "      <td>フシギソウ（Fushigisō）</td>\n",
              "      <td>Fushigisou</td>\n",
              "      <td>Plante, Poison</td>\n",
              "    </tr>\n",
              "    <tr>\n",
              "      <th>0003</th>\n",
              "      <td>Florizarre</td>\n",
              "      <td>Venusaur</td>\n",
              "      <td>Bisaflor</td>\n",
              "      <td>フシギバナ（Fushigibana）</td>\n",
              "      <td>Fushigibana</td>\n",
              "      <td>Plante, Poison</td>\n",
              "    </tr>\n",
              "    <tr>\n",
              "      <th>0004</th>\n",
              "      <td>Salamèche</td>\n",
              "      <td>Charmander</td>\n",
              "      <td>Glumanda</td>\n",
              "      <td>ヒトカゲ（Hitokage）</td>\n",
              "      <td>Hitokage</td>\n",
              "      <td>Feu</td>\n",
              "    </tr>\n",
              "    <tr>\n",
              "      <th>0005</th>\n",
              "      <td>Reptincel</td>\n",
              "      <td>Charmeleon</td>\n",
              "      <td>Glutexo</td>\n",
              "      <td>リザード（Rizādo）</td>\n",
              "      <td>Lizardo</td>\n",
              "      <td>Feu</td>\n",
              "    </tr>\n",
              "    <tr>\n",
              "      <th>0006</th>\n",
              "      <td>Dracaufeu</td>\n",
              "      <td>Charizard</td>\n",
              "      <td>Glurak</td>\n",
              "      <td>リザードン（Rizādon）</td>\n",
              "      <td>Lizardon</td>\n",
              "      <td>Feu, Vol</td>\n",
              "    </tr>\n",
              "    <tr>\n",
              "      <th>0007</th>\n",
              "      <td>Carapuce</td>\n",
              "      <td>Squirtle</td>\n",
              "      <td>Schiggy</td>\n",
              "      <td>ゼニガメ（Zenigame）</td>\n",
              "      <td>Zenigame</td>\n",
              "      <td>Eau</td>\n",
              "    </tr>\n",
              "    <tr>\n",
              "      <th>0008</th>\n",
              "      <td>Carabaffe</td>\n",
              "      <td>Wartortle</td>\n",
              "      <td>Schillok</td>\n",
              "      <td>カメール（Kamēru）</td>\n",
              "      <td>Kameil</td>\n",
              "      <td>Eau</td>\n",
              "    </tr>\n",
              "    <tr>\n",
              "      <th>0009</th>\n",
              "      <td>Tortank</td>\n",
              "      <td>Blastoise</td>\n",
              "      <td>Turtok</td>\n",
              "      <td>カメックス（Kamekkusu）</td>\n",
              "      <td>Kamex</td>\n",
              "      <td>Eau</td>\n",
              "    </tr>\n",
              "    <tr>\n",
              "      <th>0010</th>\n",
              "      <td>Chenipan</td>\n",
              "      <td>Caterpie</td>\n",
              "      <td>Raupy</td>\n",
              "      <td>キャタピー（Kyatapī）</td>\n",
              "      <td>Caterpie</td>\n",
              "      <td>Insecte</td>\n",
              "    </tr>\n",
              "    <tr>\n",
              "      <th>0011</th>\n",
              "      <td>Chrysacier</td>\n",
              "      <td>Metapod</td>\n",
              "      <td>Safcon</td>\n",
              "      <td>トランセル（Toranseru）</td>\n",
              "      <td>Transel</td>\n",
              "      <td>Insecte</td>\n",
              "    </tr>\n",
              "    <tr>\n",
              "      <th>0012</th>\n",
              "      <td>Papilusion</td>\n",
              "      <td>Butterfree</td>\n",
              "      <td>Smettbo</td>\n",
              "      <td>バタフリー（Batafurī）</td>\n",
              "      <td>Butterfree</td>\n",
              "      <td>Insecte, Vol</td>\n",
              "    </tr>\n",
              "    <tr>\n",
              "      <th>0013</th>\n",
              "      <td>Aspicot</td>\n",
              "      <td>Weedle</td>\n",
              "      <td>Hornliu</td>\n",
              "      <td>ビードル（Bīdoru）</td>\n",
              "      <td>Beedle</td>\n",
              "      <td>Insecte, Poison</td>\n",
              "    </tr>\n",
              "    <tr>\n",
              "      <th>0014</th>\n",
              "      <td>Coconfort</td>\n",
              "      <td>Kakuna</td>\n",
              "      <td>Kokuna</td>\n",
              "      <td>コクーン（Kokūn）</td>\n",
              "      <td>Cocoon</td>\n",
              "      <td>Insecte, Poison</td>\n",
              "    </tr>\n",
              "    <tr>\n",
              "      <th>0015</th>\n",
              "      <td>Dardargnan</td>\n",
              "      <td>Beedrill</td>\n",
              "      <td>Bibor</td>\n",
              "      <td>スピアー（Supiā）</td>\n",
              "      <td>Spear</td>\n",
              "      <td>Insecte, Poison</td>\n",
              "    </tr>\n",
              "    <tr>\n",
              "      <th>0016</th>\n",
              "      <td>Roucool</td>\n",
              "      <td>Pidgey</td>\n",
              "      <td>Taubsi</td>\n",
              "      <td>ポッポ（Poppo）</td>\n",
              "      <td>Poppo</td>\n",
              "      <td>Normal, Vol</td>\n",
              "    </tr>\n",
              "    <tr>\n",
              "      <th>0017</th>\n",
              "      <td>Roucoups</td>\n",
              "      <td>Pidgeotto</td>\n",
              "      <td>Tauboga</td>\n",
              "      <td>ピジョン（Pijon）</td>\n",
              "      <td>Pigeon</td>\n",
              "      <td>Normal, Vol</td>\n",
              "    </tr>\n",
              "    <tr>\n",
              "      <th>0018</th>\n",
              "      <td>Roucarnage</td>\n",
              "      <td>Pidgeot</td>\n",
              "      <td>Tauboss</td>\n",
              "      <td>ピジョット（Pijotto）</td>\n",
              "      <td>Pigeot</td>\n",
              "      <td>Normal, Vol</td>\n",
              "    </tr>\n",
              "    <tr>\n",
              "      <th>0019</th>\n",
              "      <td>Rattata</td>\n",
              "      <td>Rattata</td>\n",
              "      <td>Rattfratz</td>\n",
              "      <td>コラッタ（Koratta）</td>\n",
              "      <td>Koratta</td>\n",
              "      <td>Normal</td>\n",
              "    </tr>\n",
              "    <tr>\n",
              "      <th>0020</th>\n",
              "      <td>Rattatac</td>\n",
              "      <td>Raticate</td>\n",
              "      <td>Rattikarl</td>\n",
              "      <td>ラッタ（Ratta）</td>\n",
              "      <td>Ratta</td>\n",
              "      <td>Normal</td>\n",
              "    </tr>\n",
              "  </tbody>\n",
              "</table>\n",
              "</div>"
            ],
            "text/plain": [
              "0      Nom français Nom anglais Nom allemand    Japonais (Kanas)  \\\n",
              "Numéro                                                             \n",
              "0001     Bulbizarre   Bulbasaur      Bisasam  フシギダネ（Fushigidane）   \n",
              "0002     Herbizarre     Ivysaur    Bisaknosp    フシギソウ（Fushigisō）   \n",
              "0003     Florizarre    Venusaur     Bisaflor  フシギバナ（Fushigibana）   \n",
              "0004      Salamèche  Charmander     Glumanda      ヒトカゲ（Hitokage）   \n",
              "0005      Reptincel  Charmeleon      Glutexo        リザード（Rizādo）   \n",
              "0006      Dracaufeu   Charizard       Glurak      リザードン（Rizādon）   \n",
              "0007       Carapuce    Squirtle      Schiggy      ゼニガメ（Zenigame）   \n",
              "0008      Carabaffe   Wartortle     Schillok        カメール（Kamēru）   \n",
              "0009        Tortank   Blastoise       Turtok    カメックス（Kamekkusu）   \n",
              "0010       Chenipan    Caterpie        Raupy      キャタピー（Kyatapī）   \n",
              "0011     Chrysacier     Metapod       Safcon    トランセル（Toranseru）   \n",
              "0012     Papilusion  Butterfree      Smettbo     バタフリー（Batafurī）   \n",
              "0013        Aspicot      Weedle      Hornliu        ビードル（Bīdoru）   \n",
              "0014      Coconfort      Kakuna       Kokuna         コクーン（Kokūn）   \n",
              "0015     Dardargnan    Beedrill        Bibor         スピアー（Supiā）   \n",
              "0016        Roucool      Pidgey       Taubsi          ポッポ（Poppo）   \n",
              "0017       Roucoups   Pidgeotto      Tauboga         ピジョン（Pijon）   \n",
              "0018     Roucarnage     Pidgeot      Tauboss      ピジョット（Pijotto）   \n",
              "0019        Rattata     Rattata    Rattfratz       コラッタ（Koratta）   \n",
              "0020       Rattatac    Raticate    Rattikarl          ラッタ（Ratta）   \n",
              "\n",
              "0      Japonais (Déposé)            Types  \n",
              "Numéro                                     \n",
              "0001         Fushigidane   Plante, Poison  \n",
              "0002          Fushigisou   Plante, Poison  \n",
              "0003         Fushigibana   Plante, Poison  \n",
              "0004            Hitokage              Feu  \n",
              "0005             Lizardo              Feu  \n",
              "0006            Lizardon         Feu, Vol  \n",
              "0007            Zenigame              Eau  \n",
              "0008              Kameil              Eau  \n",
              "0009               Kamex              Eau  \n",
              "0010            Caterpie          Insecte  \n",
              "0011             Transel          Insecte  \n",
              "0012          Butterfree     Insecte, Vol  \n",
              "0013              Beedle  Insecte, Poison  \n",
              "0014              Cocoon  Insecte, Poison  \n",
              "0015               Spear  Insecte, Poison  \n",
              "0016               Poppo      Normal, Vol  \n",
              "0017              Pigeon      Normal, Vol  \n",
              "0018              Pigeot      Normal, Vol  \n",
              "0019             Koratta           Normal  \n",
              "0020               Ratta           Normal  "
            ]
          },
          "execution_count": 63,
          "metadata": {},
          "output_type": "execute_result"
        }
      ],
      "source": [
        "df_text.head(20)"
      ]
    },
    {
      "cell_type": "code",
      "execution_count": null,
      "metadata": {
        "id": "67BpOPOY4-ki"
      },
      "outputs": [
        {
          "ename": "",
          "evalue": "",
          "output_type": "error",
          "traceback": [
            "\u001b[1;31mRunning cells with 'Datacamp_Pokemon' requires the ipykernel package.\n",
            "\u001b[1;31mRun the following command to install 'ipykernel' into the Python environment. \n",
            "\u001b[1;31mCommand: 'conda install -n Datacamp_Pokemon ipykernel --update-deps --force-reinstall'"
          ]
        }
      ],
      "source": [
        "# Now, we transform the last column to two\n",
        "# different columns for the different types of each Pokemon, the second one being\n",
        "# None if the second Pokemon only have one type\n",
        "\n",
        "df_text[['Type 1', 'Type 2']] = df_text['Types'].str.split(', ', expand=True)\n",
        "\n",
        "df_text.drop(columns=[\"Types\"], inplace=True)"
      ]
    },
    {
      "cell_type": "code",
      "execution_count": null,
      "metadata": {
        "colab": {
          "base_uri": "https://localhost:8080/",
          "height": 237
        },
        "id": "p4WS3Wv-5YKw",
        "outputId": "f22ffa83-e937-4f85-b313-75b13cbd9585"
      },
      "outputs": [
        {
          "ename": "",
          "evalue": "",
          "output_type": "error",
          "traceback": [
            "\u001b[1;31mRunning cells with 'Datacamp_Pokemon' requires the ipykernel package.\n",
            "\u001b[1;31mRun the following command to install 'ipykernel' into the Python environment. \n",
            "\u001b[1;31mCommand: 'conda install -n Datacamp_Pokemon ipykernel --update-deps --force-reinstall'"
          ]
        }
      ],
      "source": [
        "df_text.head()"
      ]
    },
    {
      "cell_type": "code",
      "execution_count": 13,
      "metadata": {
        "id": "S-NF2BONi0zk"
      },
      "outputs": [],
      "source": [
        "# the dataset is almost ready\n",
        "# there is another problem of the form of some Pokemons\n",
        "# sometimes, the same key refers to a Pokemon that can have several forms\n",
        "# For almost all of these cases, all the forms have the same type\n",
        "# It is quite easy to detect Pokemon with multiple forms, because except from few\n",
        "# Pokemons, they are the only one to have a space in their name\n",
        "# So we create a blacklist of Pokemon that we don't want to modify, and then we\n",
        "# remove for all the others the information on the forms of these Pokemons\n",
        "\n",
        "blacklist = [\"M. Mime\",\n",
        "             \"Cheniselle Cape Plante\",\n",
        "             \"Mime Jr.\",\n",
        "             \"Meloetta Forme Chant\",\n",
        "             \"Hoopa Hoopa Enchaîné\",\n",
        "             \"Plumeline Style Flamenco\",\n",
        "             \"Silvallié Type\\xa0: Normal\",\n",
        "             \"M. Glaquette\",\n",
        "             \"Shifours Style Poing Final\"]\n",
        "\n",
        "pokemon_with_spaces_to_change = []\n",
        "for pokemon in df_text[\"Nom français\"].values :\n",
        "  if (\" \" in pokemon) and not(pokemon in blacklist):\n",
        "    pokemon_with_spaces_to_change.append(pokemon)\n",
        "\n",
        "def select_till_first_space(s : str) -> str :\n",
        "  split_str = s.split(' ', 1)\n",
        "  return split_str[0]\n",
        "\n",
        "df_text.loc[df_text[\"Nom français\"].isin(pokemon_with_spaces_to_change), \\\n",
        "            [\"Nom français\",\n",
        "             \"Nom anglais\",\n",
        "             \"Nom allemand\",\n",
        "             \"Japonais (Kanas)\"]] = \\\n",
        "                df_text.loc[df_text[\"Nom français\"].isin(pokemon_with_spaces_to_change), \\\n",
        "                            [\"Nom français\",\n",
        "                             \"Nom anglais\",\n",
        "                             \"Nom allemand\",\n",
        "                             \"Japonais (Kanas)\"]].applymap(select_till_first_space)"
      ]
    },
    {
      "cell_type": "code",
      "execution_count": 14,
      "metadata": {
        "colab": {
          "base_uri": "https://localhost:8080/",
          "height": 112
        },
        "id": "6_bDUvL7n50H",
        "outputId": "c45a0c77-ad2b-4036-cd4b-15b9a3dc4e80"
      },
      "outputs": [
        {
          "data": {
            "text/html": [
              "\n",
              "  <div id=\"df-dc82b536-e550-4f46-93cc-e435c6bc1feb\" class=\"colab-df-container\">\n",
              "    <div>\n",
              "<style scoped>\n",
              "    .dataframe tbody tr th:only-of-type {\n",
              "        vertical-align: middle;\n",
              "    }\n",
              "\n",
              "    .dataframe tbody tr th {\n",
              "        vertical-align: top;\n",
              "    }\n",
              "\n",
              "    .dataframe thead th {\n",
              "        text-align: right;\n",
              "    }\n",
              "</style>\n",
              "<table border=\"1\" class=\"dataframe\">\n",
              "  <thead>\n",
              "    <tr style=\"text-align: right;\">\n",
              "      <th></th>\n",
              "      <th>Nom français</th>\n",
              "      <th>Nom anglais</th>\n",
              "      <th>Nom allemand</th>\n",
              "      <th>Japonais (Kanas)</th>\n",
              "      <th>Japonais (Déposé)</th>\n",
              "      <th>Type 1</th>\n",
              "      <th>Type 2</th>\n",
              "    </tr>\n",
              "    <tr>\n",
              "      <th>Numéro</th>\n",
              "      <th></th>\n",
              "      <th></th>\n",
              "      <th></th>\n",
              "      <th></th>\n",
              "      <th></th>\n",
              "      <th></th>\n",
              "      <th></th>\n",
              "    </tr>\n",
              "  </thead>\n",
              "  <tbody>\n",
              "    <tr>\n",
              "      <th>0386</th>\n",
              "      <td>Deoxys</td>\n",
              "      <td>Deoxys</td>\n",
              "      <td>Deoxys</td>\n",
              "      <td>デオキシス（Deokishisu）</td>\n",
              "      <td>Deoxys</td>\n",
              "      <td>Psy</td>\n",
              "      <td>None</td>\n",
              "    </tr>\n",
              "  </tbody>\n",
              "</table>\n",
              "</div>\n",
              "    <div class=\"colab-df-buttons\">\n",
              "\n",
              "  <div class=\"colab-df-container\">\n",
              "    <button class=\"colab-df-convert\" onclick=\"convertToInteractive('df-dc82b536-e550-4f46-93cc-e435c6bc1feb')\"\n",
              "            title=\"Convert this dataframe to an interactive table.\"\n",
              "            style=\"display:none;\">\n",
              "\n",
              "  <svg xmlns=\"http://www.w3.org/2000/svg\" height=\"24px\" viewBox=\"0 -960 960 960\">\n",
              "    <path d=\"M120-120v-720h720v720H120Zm60-500h600v-160H180v160Zm220 220h160v-160H400v160Zm0 220h160v-160H400v160ZM180-400h160v-160H180v160Zm440 0h160v-160H620v160ZM180-180h160v-160H180v160Zm440 0h160v-160H620v160Z\"/>\n",
              "  </svg>\n",
              "    </button>\n",
              "\n",
              "  <style>\n",
              "    .colab-df-container {\n",
              "      display:flex;\n",
              "      gap: 12px;\n",
              "    }\n",
              "\n",
              "    .colab-df-convert {\n",
              "      background-color: #E8F0FE;\n",
              "      border: none;\n",
              "      border-radius: 50%;\n",
              "      cursor: pointer;\n",
              "      display: none;\n",
              "      fill: #1967D2;\n",
              "      height: 32px;\n",
              "      padding: 0 0 0 0;\n",
              "      width: 32px;\n",
              "    }\n",
              "\n",
              "    .colab-df-convert:hover {\n",
              "      background-color: #E2EBFA;\n",
              "      box-shadow: 0px 1px 2px rgba(60, 64, 67, 0.3), 0px 1px 3px 1px rgba(60, 64, 67, 0.15);\n",
              "      fill: #174EA6;\n",
              "    }\n",
              "\n",
              "    .colab-df-buttons div {\n",
              "      margin-bottom: 4px;\n",
              "    }\n",
              "\n",
              "    [theme=dark] .colab-df-convert {\n",
              "      background-color: #3B4455;\n",
              "      fill: #D2E3FC;\n",
              "    }\n",
              "\n",
              "    [theme=dark] .colab-df-convert:hover {\n",
              "      background-color: #434B5C;\n",
              "      box-shadow: 0px 1px 3px 1px rgba(0, 0, 0, 0.15);\n",
              "      filter: drop-shadow(0px 1px 2px rgba(0, 0, 0, 0.3));\n",
              "      fill: #FFFFFF;\n",
              "    }\n",
              "  </style>\n",
              "\n",
              "    <script>\n",
              "      const buttonEl =\n",
              "        document.querySelector('#df-dc82b536-e550-4f46-93cc-e435c6bc1feb button.colab-df-convert');\n",
              "      buttonEl.style.display =\n",
              "        google.colab.kernel.accessAllowed ? 'block' : 'none';\n",
              "\n",
              "      async function convertToInteractive(key) {\n",
              "        const element = document.querySelector('#df-dc82b536-e550-4f46-93cc-e435c6bc1feb');\n",
              "        const dataTable =\n",
              "          await google.colab.kernel.invokeFunction('convertToInteractive',\n",
              "                                                    [key], {});\n",
              "        if (!dataTable) return;\n",
              "\n",
              "        const docLinkHtml = 'Like what you see? Visit the ' +\n",
              "          '<a target=\"_blank\" href=https://colab.research.google.com/notebooks/data_table.ipynb>data table notebook</a>'\n",
              "          + ' to learn more about interactive tables.';\n",
              "        element.innerHTML = '';\n",
              "        dataTable['output_type'] = 'display_data';\n",
              "        await google.colab.output.renderOutput(dataTable, element);\n",
              "        const docLink = document.createElement('div');\n",
              "        docLink.innerHTML = docLinkHtml;\n",
              "        element.appendChild(docLink);\n",
              "      }\n",
              "    </script>\n",
              "  </div>\n",
              "\n",
              "    </div>\n",
              "  </div>\n"
            ],
            "text/plain": [
              "0      Nom français Nom anglais Nom allemand   Japonais (Kanas)  \\\n",
              "Numéro                                                            \n",
              "0386         Deoxys      Deoxys       Deoxys  デオキシス（Deokishisu）   \n",
              "\n",
              "0      Japonais (Déposé) Type 1 Type 2  \n",
              "Numéro                                  \n",
              "0386              Deoxys    Psy   None  "
            ]
          },
          "execution_count": 14,
          "metadata": {},
          "output_type": "execute_result"
        }
      ],
      "source": [
        "df_text.loc[df_text[\"Nom français\"] == \"Deoxys\"]"
      ]
    },
    {
      "cell_type": "code",
      "execution_count": 15,
      "metadata": {
        "id": "QLd853NBrm2r"
      },
      "outputs": [],
      "source": [
        "# eventually, we change the few elements left that are problematic by hand\n",
        "\n",
        "\n",
        "# several Pokemon with the same number in the Pokedex have different second types\n",
        "# to simplify, we just remove the second type, setting it to None\n",
        "df_text.loc[df_text[\"Nom français\"] == \"Cheniselle Cape Plante\"] = ['Cheniselle',\n",
        "                                                                    'Wormadam',\n",
        "                                                                    'Burmadame',\n",
        "                                                                    'ミノマダム（Minomadamu）',\n",
        "                                                                    'Minomadam',\n",
        "                                                                    'Insecte',\n",
        "                                                                     None]\n",
        "\n",
        "# same problem\n",
        "df_text.loc[df_text[\"Nom français\"] == \"Meloetta Forme Chant\"] = ['Meloetta',\n",
        "                                                                  'Meloetta',\n",
        "                                                                  'Meloetta',\n",
        "                                                                  'メロエッタ（Meroetta）',\n",
        "                                                                  'Meloetta',\n",
        "                                                                  'Normal',\n",
        "                                                                  None]\n",
        "\n",
        "# same problem\n",
        "df_text.loc[df_text[\"Nom français\"] == \"Hoopa Hoopa Enchaîné\"] = ['Hoopa',\n",
        "                                                                  'Hoopa',\n",
        "                                                                  'Hoopa',\n",
        "                                                                  'フーパ（Fūpa）',\n",
        "                                                                  'Hoopa',\n",
        "                                                                  'Psy',\n",
        "                                                                  None]\n",
        "\n",
        "# same problem\n",
        "df_text.loc[df_text[\"Nom français\"] == \"Plumeline Style Flamenco\"] = ['Plumeline',\n",
        "                                                                      'Oricorio',\n",
        "                                                                      'Choreogel',\n",
        "                                                                      'オドリドリ（Odoridori）',\n",
        "                                                                      'Odoridori',\n",
        "                                                                      'Vol',\n",
        "                                                                      None]\n",
        "\n",
        "# same problem\n",
        "df_text.loc[df_text[\"Nom français\"] == \"Shifours Style Poing Final\"] = ['Shifours',\n",
        "                                                                        'Urshifu',\n",
        "                                                                        'Wulaosu',\n",
        "                                                                        'ウーラオス（Ūraosu）',\n",
        "                                                                        'Wulaosu',\n",
        "                                                                        'Combat',\n",
        "                                                                        None]\n",
        "\n",
        "# this Pokemon has as many forms as there are types: we set its type to normal\n",
        "# (first type that appears in Pokepedia)\n",
        "df_text.loc[df_text[\"Nom français\"] == \"Silvallié Type\\xa0: Normal\"] = ['Silvallié',\n",
        "                                                                        'Silvally',\n",
        "                                                                        'Amigento',\n",
        "                                                                        'シルヴァディ（Shiruvadi）',\n",
        "                                                                        'Silvady',\n",
        "                                                                        'Normal',\n",
        "                                                                         None]"
      ]
    },
    {
      "cell_type": "code",
      "execution_count": 16,
      "metadata": {
        "id": "OF0kwnUiD_Nh"
      },
      "outputs": [],
      "source": [
        "df_text.to_parquet(f\"{path_df_text}.parquet\")"
      ]
    },
    {
      "cell_type": "markdown",
      "metadata": {
        "id": "TrO9bGiu6D7l"
      },
      "source": [
        "## Part II: Pokemon images\n",
        "\n",
        "Thanks to the previous part, we have ensured that the request will not fail for each existing Pokemon (this was tested by looping on each Pokemon)."
      ]
    },
    {
      "cell_type": "code",
      "execution_count": 17,
      "metadata": {
        "id": "EInmUOkL5w0u"
      },
      "outputs": [],
      "source": [
        "def get_url(pokemon : str) -> str :\n",
        "  \"\"\"\n",
        "  From the name of the Pokemon, returns the URL of the picture\n",
        "  that we want of this Pokemon (it is all the time in the same\n",
        "  position in the webpage, but the name of the url can be different)\n",
        "  \"\"\"\n",
        "\n",
        "  # the url of the whole webpage, which contents the image\n",
        "  url_webpage = f\"https://www.pokepedia.fr/{pokemon}\"\n",
        "  response = requests.get(url_webpage)\n",
        "  soup = BeautifulSoup(response.content, 'html.parser')\n",
        "\n",
        "  # all the images found in the webpage\n",
        "  img_tags = soup.find_all('img')\n",
        "\n",
        "  for img in img_tags:\n",
        "\n",
        "    # the url of the image\n",
        "    img_url = img.get('src')\n",
        "\n",
        "    # transform the original string so that it is coherent with an URL\n",
        "    # when having special characters\n",
        "    pokemon_edited = re.sub(r\"[ :]\", \"_\", pokemon)\n",
        "    pokemon_edited = quote(pokemon_edited)\n",
        "\n",
        "    # the pokemon always appear in the name of the URL\n",
        "    if pokemon_edited in img_url :\n",
        "\n",
        "        # by chance, the desired picture is always the first to appear\n",
        "        return f\"https://www.pokepedia.fr{img_url}\"\n",
        "\n",
        "  raise Exception(f\"The url of the image of the Pokemon {pokemon} was not found\")"
      ]
    },
    {
      "cell_type": "code",
      "execution_count": 18,
      "metadata": {
        "colab": {
          "base_uri": "https://localhost:8080/",
          "height": 35
        },
        "id": "ztaP_TXx6zYH",
        "outputId": "365c266f-2deb-4e29-f597-1a97135ef590"
      },
      "outputs": [
        {
          "data": {
            "application/vnd.google.colaboratory.intrinsic+json": {
              "type": "string"
            },
            "text/plain": [
              "'https://www.pokepedia.fr/images/thumb/e/ef/Bulbizarre-RFVF.png/250px-Bulbizarre-RFVF.png'"
            ]
          },
          "execution_count": 18,
          "metadata": {},
          "output_type": "execute_result"
        }
      ],
      "source": [
        "get_url(\"Bulbizarre\")"
      ]
    },
    {
      "cell_type": "code",
      "execution_count": 19,
      "metadata": {
        "id": "ohIwfmB-8ihA"
      },
      "outputs": [],
      "source": [
        "def image_pokemon_from_url(url : str) -> np.ndarray :\n",
        "  \"\"\"\n",
        "  Returns the image of the Pokemon resulting from the url\n",
        "  of the desired image\n",
        "  \"\"\"\n",
        "\n",
        "  response = requests.get(url)\n",
        "\n",
        "  if response.status_code != 200:\n",
        "\n",
        "    raise Exception(f\"Request failure with code {response.status_code}\")\n",
        "\n",
        "  image = Image.open(BytesIO(response.content))\n",
        "  image_array = np.array(image)\n",
        "  return image_array\n",
        "\n",
        "\n",
        "def get_image_pokemon(pokemon : str) -> np.ndarray :\n",
        "  \"\"\"\n",
        "  Returns the desired image of the Pokemon\n",
        "  \"\"\"\n",
        "\n",
        "  return image_pokemon_from_url(get_url(pokemon))"
      ]
    },
    {
      "cell_type": "code",
      "execution_count": 20,
      "metadata": {
        "colab": {
          "base_uri": "https://localhost:8080/",
          "height": 435
        },
        "id": "QHB5jJHa9u99",
        "outputId": "735998e2-d87a-4dd1-da57-bc40e9e70eaf"
      },
      "outputs": [
        {
          "data": {
            "image/png": "[encoded data removed]",
            "text/plain": [
              "<Figure size 640x480 with 1 Axes>"
            ]
          },
          "metadata": {},
          "output_type": "display_data"
        }
      ],
      "source": [
        "plt.imshow(get_image_pokemon(\"Bulbizarre\"));"
      ]
    },
    {
      "cell_type": "code",
      "execution_count": 21,
      "metadata": {
        "id": "lPz9psMuMGIl"
      },
      "outputs": [],
      "source": [
        "def save_pokemon_from_url(url : str, path : str) -> None :\n",
        "  \"\"\"\n",
        "  Saves the image of the Pokemon resulting from the url\n",
        "  of the desired image, and store it in a png file in the path\n",
        "  \"\"\"\n",
        "\n",
        "  response = requests.get(url)\n",
        "\n",
        "  if response.status_code != 200:\n",
        "\n",
        "    raise Exception(f\"Request failure with code {response.status_code}\")\n",
        "\n",
        "  with open(path, \"wb\") as file:\n",
        "\n",
        "    file.write(response.content)\n",
        "\n",
        "\n",
        "def save_pokemon(pokemon : str, path : str) -> None :\n",
        "  \"\"\"\n",
        "  Saves the desired Pokemon in the path\n",
        "  \"\"\"\n",
        "  save_pokemon_from_url(get_url(pokemon), path)"
      ]
    },
    {
      "cell_type": "code",
      "execution_count": 22,
      "metadata": {
        "colab": {
          "base_uri": "https://localhost:8080/"
        },
        "id": "WCBQTERPOQcm",
        "outputId": "d960707d-96a4-4021-904e-86f2da900f3e"
      },
      "outputs": [
        {
          "name": "stderr",
          "output_type": "stream",
          "text": [
            "100%|██████████| 1025/1025 [24:27<00:00,  1.43s/it]\n"
          ]
        }
      ],
      "source": [
        "for i,pokemon in enumerate(tqdm(df_text[\"Nom français\"].values)) :\n",
        "  save_pokemon(pokemon,f\"{path_image}{i+1:04}_{pokemon}.png\")"
      ]
    },
    {
      "cell_type": "markdown",
      "metadata": {
        "id": "wcWoJGm_qY-z"
      },
      "source": [
        "### Part 3: Downloading the results"
      ]
    },
    {
      "cell_type": "code",
      "execution_count": 31,
      "metadata": {
        "id": "7XwA9DADn1wB"
      },
      "outputs": [],
      "source": [
        "if path_image.endswith('/'):\n",
        "    path_image = path_image[:-1]\n",
        "\n",
        "zip_file_name = f\"{path_image}.zip\"\n",
        "zip_command = f\"zip -r -q {zip_file_name} {path_image}\"\n",
        "get_ipython().system(zip_command);"
      ]
    },
    {
      "cell_type": "code",
      "execution_count": 35,
      "metadata": {
        "colab": {
          "base_uri": "https://localhost:8080/",
          "height": 17
        },
        "id": "ZApN4644ns6U",
        "outputId": "6c3bec64-e3a7-42fb-f70d-63d224f02790"
      },
      "outputs": [
        {
          "data": {
            "application/javascript": "\n    async function download(id, filename, size) {\n      if (!google.colab.kernel.accessAllowed) {\n        return;\n      }\n      const div = document.createElement('div');\n      const label = document.createElement('label');\n      label.textContent = `Downloading \"${filename}\": `;\n      div.appendChild(label);\n      const progress = document.createElement('progress');\n      progress.max = size;\n      div.appendChild(progress);\n      document.body.appendChild(div);\n\n      const buffers = [];\n      let downloaded = 0;\n\n      const channel = await google.colab.kernel.comms.open(id);\n      // Send a message to notify the kernel that we're ready.\n      channel.send({})\n\n      for await (const message of channel.messages) {\n        // Send a message to notify the kernel that we're ready.\n        channel.send({})\n        if (message.buffers) {\n          for (const buffer of message.buffers) {\n            buffers.push(buffer);\n            downloaded += buffer.byteLength;\n            progress.value = downloaded;\n          }\n        }\n      }\n      const blob = new Blob(buffers, {type: 'application/binary'});\n      const a = document.createElement('a');\n      a.href = window.URL.createObjectURL(blob);\n      a.download = filename;\n      div.appendChild(a);\n      a.click();\n      div.remove();\n    }\n  ",
            "text/plain": [
              "<IPython.core.display.Javascript object>"
            ]
          },
          "metadata": {},
          "output_type": "display_data"
        },
        {
          "data": {
            "application/javascript": "download(\"download_2ceab8d5-658e-4c8d-aae2-175a28e3bb0f\", \"Pokemon_image.zip\", 61594549)",
            "text/plain": [
              "<IPython.core.display.Javascript object>"
            ]
          },
          "metadata": {},
          "output_type": "display_data"
        },
        {
          "data": {
            "application/javascript": "\n    async function download(id, filename, size) {\n      if (!google.colab.kernel.accessAllowed) {\n        return;\n      }\n      const div = document.createElement('div');\n      const label = document.createElement('label');\n      label.textContent = `Downloading \"${filename}\": `;\n      div.appendChild(label);\n      const progress = document.createElement('progress');\n      progress.max = size;\n      div.appendChild(progress);\n      document.body.appendChild(div);\n\n      const buffers = [];\n      let downloaded = 0;\n\n      const channel = await google.colab.kernel.comms.open(id);\n      // Send a message to notify the kernel that we're ready.\n      channel.send({})\n\n      for await (const message of channel.messages) {\n        // Send a message to notify the kernel that we're ready.\n        channel.send({})\n        if (message.buffers) {\n          for (const buffer of message.buffers) {\n            buffers.push(buffer);\n            downloaded += buffer.byteLength;\n            progress.value = downloaded;\n          }\n        }\n      }\n      const blob = new Blob(buffers, {type: 'application/binary'});\n      const a = document.createElement('a');\n      a.href = window.URL.createObjectURL(blob);\n      a.download = filename;\n      div.appendChild(a);\n      a.click();\n      div.remove();\n    }\n  ",
            "text/plain": [
              "<IPython.core.display.Javascript object>"
            ]
          },
          "metadata": {},
          "output_type": "display_data"
        },
        {
          "data": {
            "application/javascript": "download(\"download_fc9763c7-c895-4c20-aeff-50bcc0dd35a5\", \"Pokemon_name_and_type.parquet\", 76613)",
            "text/plain": [
              "<IPython.core.display.Javascript object>"
            ]
          },
          "metadata": {},
          "output_type": "display_data"
        }
      ],
      "source": [
        "files.download(zip_file_name)\n",
        "files.download(f\"{path_df_text}.parquet\")"
      ]
    }
  ],
  "metadata": {
    "colab": {
      "provenance": []
    },
    "kernelspec": {
      "display_name": "Python 3",
      "name": "python3"
    },
    "language_info": {
      "codemirror_mode": {
        "name": "ipython",
        "version": 3
      },
      "file_extension": ".py",
      "mimetype": "text/x-python",
      "name": "python",
      "nbconvert_exporter": "python",
      "pygments_lexer": "ipython3",
      "version": "3.11.8"
    }
  },
  "nbformat": 4,
  "nbformat_minor": 0
}
